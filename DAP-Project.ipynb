{
 "cells": [
  {
   "cell_type": "code",
   "execution_count": 30,
   "id": "19291c50",
   "metadata": {},
   "outputs": [],
   "source": [
    "import urllib.request\n",
    "import json\n",
    "import pymongo\n",
    "import time\n",
    "import numpy as np\n",
    "\n",
    "def get_accomidation_details(number):\n",
    "    base_url = \"https://failteireland.azure-api.net/opendata-api/v1/accommodation?subscription-key=&search=*&$skip={}\"\n",
    "    acc_url = base_url.format(number)\n",
    "    \n",
    "    try:\n",
    "        with urllib.request.urlopen(acc_url) as response:\n",
    "            \n",
    "            return json.load(response)\n",
    "    except urllib.error.URLError as e:\n",
    "        print(\"The API URL is invalid.\"+e)\n",
    "    except json.JSONDecodeError:\n",
    "        print(\"Error decoding JSON response\")\n",
    "        return {}\n",
    "\n",
    "    "
   ]
  },
  {
   "cell_type": "code",
   "execution_count": 31,
   "id": "39c76f0d",
   "metadata": {},
   "outputs": [],
   "source": [
    "from pymongo import MongoClient\n",
    "\n",
    "client = pymongo.MongoClient(\"mongodb://localhost:27017/\",username=\"dap\",password=\"dap\")\n",
    "db = client['test_project']\n",
    "collection = db['data-collection']\n"
   ]
  },
  {
   "cell_type": "code",
   "execution_count": 32,
   "id": "51a08d62",
   "metadata": {},
   "outputs": [],
   "source": [
    "def upload_data(ACCOM_DATA):\n",
    "    if len(ACCOM_DATA) != 0:\n",
    "        for i in range (0 , len(ACCOM_DATA[\"results\"])):\n",
    "            collection.insert_one(ACCOM_DATA[\"results\"][i])"
   ]
  },
  {
   "cell_type": "code",
   "execution_count": 33,
   "id": "0c9db755",
   "metadata": {},
   "outputs": [
    {
     "name": "stdout",
     "output_type": "stream",
     "text": [
      "0\n",
      "50\n",
      "100\n",
      "150\n",
      "200\n",
      "250\n",
      "300\n",
      "350\n",
      "Error decoding JSON response\n",
      "400\n",
      "Error decoding JSON response\n",
      "450\n",
      "500\n",
      "550\n",
      "600\n",
      "650\n",
      "700\n",
      "750\n",
      "800\n",
      "850\n",
      "900\n",
      "950\n",
      "1000\n",
      "Error decoding JSON response\n",
      "1050\n",
      "1100\n",
      "1150\n",
      "1200\n",
      "1250\n",
      "1300\n",
      "1350\n",
      "1400\n",
      "1450\n",
      "1500\n",
      "1550\n",
      "1600\n",
      "1650\n",
      "1700\n",
      "1750\n",
      "1800\n",
      "1850\n",
      "1900\n",
      "1950\n",
      "2000\n",
      "2050\n",
      "2100\n",
      "2150\n",
      "2200\n",
      "2250\n",
      "2300\n",
      "2350\n"
     ]
    }
   ],
   "source": [
    "for dat in np.arange(0,2400,50):\n",
    "    print(dat)\n",
    "    upload_data(get_accomidation_details(dat))\n",
    "    time.sleep(10)\n",
    "    "
   ]
  },
  {
   "cell_type": "code",
   "execution_count": null,
   "id": "b556540e",
   "metadata": {},
   "outputs": [],
   "source": [
    "import pprint\n",
    "for collections in collection.find():\n",
    "    pprint.pprint(collections)"
   ]
  },
  {
   "cell_type": "code",
   "execution_count": 34,
   "id": "2f2a998c",
   "metadata": {},
   "outputs": [
    {
     "name": "stdout",
     "output_type": "stream",
     "text": [
      "2247\n"
     ]
    },
    {
     "name": "stderr",
     "output_type": "stream",
     "text": [
      "/var/folders/c4/449rfrjx7nlfpq65dth_nsjr0000gn/T/ipykernel_39243/1337786342.py:1: DeprecationWarning: count is deprecated. Use estimated_document_count or count_documents instead. Please note that $where must be replaced by $expr, $near must be replaced by $geoWithin with $center, and $nearSphere must be replaced by $geoWithin with $centerSphere\n",
      "  print(collection.count())\n"
     ]
    }
   ],
   "source": [
    "print(collection.count())"
   ]
  },
  {
   "cell_type": "code",
   "execution_count": 35,
   "id": "7494cc0d",
   "metadata": {},
   "outputs": [
    {
     "data": {
      "text/plain": [
       "(2247, 10)"
      ]
     },
     "execution_count": 35,
     "metadata": {},
     "output_type": "execute_result"
    }
   ],
   "source": [
    "import pandas as pd\n",
    "acc_df = pd.DataFrame(list(collection.find()))\n",
    "acc_df.shape"
   ]
  },
  {
   "cell_type": "code",
   "execution_count": null,
   "id": "bef7e245",
   "metadata": {},
   "outputs": [],
   "source": [
    "acc_df.head()"
   ]
  },
  {
   "cell_type": "code",
   "execution_count": null,
   "id": "0ea28143",
   "metadata": {},
   "outputs": [],
   "source": []
  }
 ],
 "metadata": {
  "kernelspec": {
   "display_name": "Python 3 (ipykernel)",
   "language": "python",
   "name": "python3"
  },
  "language_info": {
   "codemirror_mode": {
    "name": "ipython",
    "version": 3
   },
   "file_extension": ".py",
   "mimetype": "text/x-python",
   "name": "python",
   "nbconvert_exporter": "python",
   "pygments_lexer": "ipython3",
   "version": "3.9.13"
  }
 },
 "nbformat": 4,
 "nbformat_minor": 5
}
